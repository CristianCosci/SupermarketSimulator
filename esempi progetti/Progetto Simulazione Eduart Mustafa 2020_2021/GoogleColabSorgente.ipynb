{
  "nbformat": 4,
  "nbformat_minor": 0,
  "metadata": {
    "colab": {
      "name": "Untitled13.ipynb",
      "provenance": [],
      "collapsed_sections": []
    },
    "kernelspec": {
      "name": "python3",
      "display_name": "Python 3"
    }
  },
  "cells": [
    {
      "cell_type": "code",
      "metadata": {
        "id": "30jEkDiuIGKP"
      },
      "source": [
        "import numpy as np\r\n",
        "\r\n",
        "class ExpRandom:\r\n",
        "  def __init__(self, lam):\r\n",
        "    self.lam = lam\r\n",
        "    \r\n",
        "  def generate(self):\r\n",
        "    return ((-np.log(1-(np.random.uniform(low=0.0,high=1.0)))) / self.lam)\r\n",
        "\r\n",
        "class HypoExpRandom:\r\n",
        "  def __init__(self, lam1, lam2):\r\n",
        "    self.lam1 = lam1\r\n",
        "    self.lam2 = lam2\r\n",
        "    x = (np.log(lam1) - np.log(lam2)) / (lam1 - lam2)\r\n",
        "    self.maxy = self.__calculate(x)\r\n",
        "\r\n",
        "    increment = x/100\r\n",
        "    while self.__cumulative(x) < 0.999:\r\n",
        "      x += increment\r\n",
        "      \r\n",
        "    self.maxx = x\r\n",
        "  \r\n",
        "  def generate(self):\r\n",
        "    while True:\r\n",
        "      x = np.random.uniform(low=0.0,high=self.maxx)\r\n",
        "      y = np.random.uniform(low=0.0,high=self.maxy)\r\n",
        "      if y <= self.__calculate(x):\r\n",
        "        return x\r\n",
        "  \r\n",
        "  def __calculate(self, x):\r\n",
        "    return ((self.lam1*self.lam2) / (self.lam1 - self.lam2)) * (np.exp(-x*self.lam2) - np.exp(-x*self.lam1))\r\n",
        "  \r\n",
        "  def __cumulative(self, x):\r\n",
        "    return 1 - (self.lam2 / (self.lam2 - self.lam1)) * np.exp(-x*self.lam1) + (self.lam1 / (self.lam2 - self.lam1)) * np.exp(-x*self.lam2)\r\n",
        "\r\n",
        "class Event:\r\n",
        "  ARRIVAL = 0\r\n",
        "  DEPARTURE = 1\r\n",
        "  SIM_END = 2\r\n",
        "  def __init__(self, event_type, time):\r\n",
        "    self.event_type = event_type\r\n",
        "    self.time = time\r\n",
        "  \r\n",
        "  def __str__(self):\r\n",
        "    type_s = \"\"\r\n",
        "    if self.event_type == self.ARRIVAL:\r\n",
        "      type_s = \"ARRIVAL\"\r\n",
        "    elif self.event_type == self.DEPARTURE:\r\n",
        "      type_s = \"DEPARTURE\"\r\n",
        "    elif self.event_type == self.SIM_END:\r\n",
        "      type_s = \"SIM_END\"\r\n",
        "    \r\n",
        "    return \"Type: {0}, Time: {1}\".format(type_s, self.time)\r\n",
        "\r\n",
        "  def __repr__(self):\r\n",
        "    type_s = \"\"\r\n",
        "    if self.event_type == self.ARRIVAL:\r\n",
        "      type_s = \"ARRIVAL\"\r\n",
        "    elif self.event_type == self.DEPARTURE:\r\n",
        "      type_s = \"DEPARTURE\"\r\n",
        "    elif self.event_type == self.SIM_END:\r\n",
        "      type_s = \"SIM_END\"\r\n",
        "    \r\n",
        "    return \"<Event Type: {0}, Time: {1}>\".format(type_s, self.time)\r\n",
        "\r\n",
        "\r\n",
        "class EventList:\r\n",
        "  def __init__(self):\r\n",
        "    self.event_list = []\r\n",
        "  \r\n",
        "  def schedule(self, event):\r\n",
        "    if len(self.event_list) == 0:\r\n",
        "      self.event_list.append(event)\r\n",
        "    else:\r\n",
        "      for index, ev in enumerate(self.event_list):\r\n",
        "        if ev.time > event.time:\r\n",
        "          self.event_list.insert(index, event)\r\n",
        "          break\r\n",
        "        elif index == len(self.event_list) - 1:\r\n",
        "          self.event_list.append(event)\r\n",
        "          break\r\n",
        "  \r\n",
        "  def get(self):\r\n",
        "    if len(self.event_list) == 0:\r\n",
        "      return None\r\n",
        "    else:\r\n",
        "      next_event = self.event_list[0]\r\n",
        "      del self.event_list[0]\r\n",
        "      return next_event\r\n",
        "\r\n",
        "  def __str__(self):\r\n",
        "    return str(self.event_list)\r\n",
        "\r\n",
        "class MH1Simulator:\r\n",
        "  def __init__(self, lam, mu1, mu2, sim_end_time = 15000):\r\n",
        "    self.history = []\r\n",
        "\r\n",
        "    self.running = False\r\n",
        "    self.sim_end_time = sim_end_time\r\n",
        "\r\n",
        "    self.arrivals = 0\r\n",
        "    self.departures = 0\r\n",
        "    self.current_jobs = 0\r\n",
        "\r\n",
        "    self.old_time = 0\r\n",
        "    self.area = 0\r\n",
        "    self.btime = 0\r\n",
        "    self.current_time = 0\r\n",
        "\r\n",
        "    self.nmean = 0\r\n",
        "    self.U = 0\r\n",
        "    self.wmean = 0\r\n",
        "    self.throughput = 0\r\n",
        "\r\n",
        "    self.lam = lam\r\n",
        "    self.mu1 = mu1\r\n",
        "    self.mu2 = mu2\r\n",
        "\r\n",
        "    self.exp_generator = ExpRandom(lam)\r\n",
        "    self.hypo_exp_generator = HypoExpRandom(mu1, mu2)\r\n",
        "\r\n",
        "    self.event_list = EventList()\r\n",
        "    self.event_list.schedule(Event(Event.ARRIVAL, 0))\r\n",
        "    self.event_list.schedule(Event(Event.SIM_END, sim_end_time))\r\n",
        "\r\n",
        "  def start(self):\r\n",
        "    self.running = True\r\n",
        "    while self.running:\r\n",
        "      self.__clock()\r\n",
        "    print(\"Fine della simulazione\")\r\n",
        "\r\n",
        "  def __clock(self):\r\n",
        "    event = self.event_list.get()\r\n",
        "    self.current_time = event.time\r\n",
        "    if event.event_type == Event.ARRIVAL:\r\n",
        "      self.history.append([Event(Event.ARRIVAL, event.time), None])\r\n",
        "      self.__arrival()\r\n",
        "    elif event.event_type == Event.DEPARTURE:\r\n",
        "      self.history[self.departures][1] = Event(Event.DEPARTURE, event.time)\r\n",
        "      self.__departure()\r\n",
        "    elif event.event_type == Event.SIM_END:\r\n",
        "      self.__sim_end()\r\n",
        "      self.running = False\r\n",
        "\r\n",
        "  def __arrival(self):\r\n",
        "    self.__stat_accumulator()\r\n",
        "    self.current_jobs += 1\r\n",
        "    self.arrivals += 1\r\n",
        "    next_arrival_time = self.exp_generator.generate()\r\n",
        "    ev = Event(Event.ARRIVAL, self.current_time + next_arrival_time)\r\n",
        "    self.event_list.schedule(ev)\r\n",
        "\r\n",
        "    if self.current_jobs == 1:\r\n",
        "      next_departure_time = self.hypo_exp_generator.generate()\r\n",
        "      ev = Event(Event.DEPARTURE, self.current_time + next_departure_time)\r\n",
        "      self.event_list.schedule(ev)\r\n",
        "  \r\n",
        "  def __departure(self):\r\n",
        "    self.__stat_accumulator()\r\n",
        "    self.current_jobs -= 1\r\n",
        "    self.departures += 1\r\n",
        "    if self.current_jobs > 0:\r\n",
        "      next_departure_time = self.hypo_exp_generator.generate()\r\n",
        "      ev = Event(Event.DEPARTURE, self.current_time + next_departure_time)\r\n",
        "      self.event_list.schedule(ev)\r\n",
        "  \r\n",
        "  def __sim_end(self):\r\n",
        "    self.nmean = self.area / self.current_time\r\n",
        "    self.wmean = self.area / self.departures\r\n",
        "    self.throughput = self.departures / self.current_time\r\n",
        "    self.U = self.btime / self.current_time\r\n",
        "\r\n",
        "    print(\"Risultati della simulazione\")\r\n",
        "    print(\"Arrivi: {0}\".format(self.arrivals))\r\n",
        "    print(\"Partenze: {0}\".format(self.departures))\r\n",
        "    print(\"Throughput: {0}\".format(self.throughput))\r\n",
        "    print(\"Utilizzazione: {0}\".format(self.U))\r\n",
        "    print(\"Numero medio di clienti nel sistema: {0}\".format(self.nmean))\r\n",
        "    print(\"Tempo medio di permanenza nel sistema: {0}\".format(self.wmean))\r\n",
        "  \r\n",
        "  def __stat_accumulator(self):\r\n",
        "    interval = self.current_time - self.old_time\r\n",
        "    self.old_time = self.current_time\r\n",
        "    if self.current_jobs > 0:\r\n",
        "      self.area += interval * self.current_jobs\r\n",
        "      self.btime += interval"
      ],
      "execution_count": 19,
      "outputs": []
    },
    {
      "cell_type": "code",
      "metadata": {
        "colab": {
          "base_uri": "https://localhost:8080/"
        },
        "id": "STBunrVoJs16",
        "outputId": "6e716610-404a-495a-900d-e263c86b3eb8"
      },
      "source": [
        "simulation = MH1Simulator(0.26, 1.09, 0.75)\r\n",
        "simulation.start()\r\n"
      ],
      "execution_count": 43,
      "outputs": [
        {
          "output_type": "stream",
          "text": [
            "Risultati della simulazione\n",
            "Arrivi: 3849\n",
            "Partenze: 3848\n",
            "Throughput: 0.25653333333333334\n",
            "Utilizzazione: 0.573044839883828\n",
            "Numero medio di clienti nel sistema: 1.1790842010030833\n",
            "Tempo medio di permanenza nel sistema: 4.596222197257341\n",
            "Fine della simulazione\n"
          ],
          "name": "stdout"
        }
      ]
    },
    {
      "cell_type": "code",
      "metadata": {
        "colab": {
          "base_uri": "https://localhost:8080/"
        },
        "id": "6W7ndWBwNhCV",
        "outputId": "3c415c20-16b0-42cd-df2d-45b110316793"
      },
      "source": [
        "print(simulation.history[0])"
      ],
      "execution_count": 47,
      "outputs": [
        {
          "output_type": "stream",
          "text": [
            "[<Event Type: ARRIVAL, Time: 0>, <Event Type: DEPARTURE, Time: 0.9766860773530284>]\n"
          ],
          "name": "stdout"
        }
      ]
    },
    {
      "cell_type": "code",
      "metadata": {
        "id": "tl3ulUd0-kSh"
      },
      "source": [
        "import csv\r\n",
        "\r\n",
        "with open(\"data.csv\", \"w\") as f:\r\n",
        "  writer = csv.writer(f)\r\n",
        "  for index, el in enumerate(simulation.history):\r\n",
        "    if el[0] is not None and el[1] is not None:\r\n",
        "      writer.writerow([index+1, el[0].time, el[1].time, el[1].time - el[0].time])"
      ],
      "execution_count": 48,
      "outputs": []
    },
    {
      "cell_type": "code",
      "metadata": {
        "colab": {
          "base_uri": "https://localhost:8080/"
        },
        "id": "uwPXsPdRLYVV",
        "outputId": "dda5fd7c-f505-4864-aa97-fe3f2340880c"
      },
      "source": [
        "simulation = MH1Simulator(0.13, 1.09, 0.75)\r\n",
        "simulation.start()"
      ],
      "execution_count": 3,
      "outputs": [
        {
          "output_type": "stream",
          "text": [
            "Risultati della simulazione\n",
            "Arrivi: 1950\n",
            "Partenze: 1949\n",
            "Throughput: 0.12993333333333335\n",
            "Utilizzazione: 0.2875722608593525\n",
            "Numero medio di clienti nel sistema: 0.37118251861161194\n",
            "Tempo medio di permanenza nel sistema: 2.856715125281775\n",
            "Fine della simulazione\n"
          ],
          "name": "stdout"
        }
      ]
    },
    {
      "cell_type": "code",
      "metadata": {
        "colab": {
          "base_uri": "https://localhost:8080/"
        },
        "id": "YXeiFbi0ZnNI",
        "outputId": "d6f1115a-16bf-4ad4-d763-02cf120064a5"
      },
      "source": [
        "simulation = MH1Simulator(0.09, 1.09, 0.75, sim_end_time = 300000)\r\n",
        "simulation.start()"
      ],
      "execution_count": 24,
      "outputs": [
        {
          "output_type": "stream",
          "text": [
            "Risultati della simulazione\n",
            "Arrivi: 26870\n",
            "Partenze: 26870\n",
            "Throughput: 0.08956666666666667\n",
            "Utilizzazione: 0.20183591196145653\n",
            "Numero medio di clienti nel sistema: 0.23993060174577555\n",
            "Tempo medio di permanenza nel sistema: 2.678793469435529\n",
            "Fine della simulazione\n"
          ],
          "name": "stdout"
        }
      ]
    }
  ]
}